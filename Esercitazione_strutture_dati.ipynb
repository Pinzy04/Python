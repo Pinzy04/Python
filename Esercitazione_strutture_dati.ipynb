{
 "cells": [
  {
   "cell_type": "code",
   "execution_count": 1,
   "id": "d6d61b7e",
   "metadata": {},
   "outputs": [
    {
     "name": "stdout",
     "output_type": "stream",
     "text": [
      "[2, 3, 4, 5] \n",
      "\n",
      "[1, 4, 5]\n"
     ]
    }
   ],
   "source": [
    "#Lista: una lista è una struttura dati ordinata, mutabile, indicizzata e che ammette duplicati.\n",
    "\n",
    "\n",
    "#1.Create una lista e provate a usare l'operatore “del” su una slice\n",
    "\n",
    "my_list=[1, 2, 3, 4, 5]\n",
    "\n",
    "#Slice: quando si specifica un intervallo, il valore restituito sarà una nuova lista con gli elementi specificati\n",
    "sliced_list=my_list[1:5]\n",
    "print(str(sliced_list), '\\n')\n",
    "\n",
    "#Del: elimina un elemento all'indice specificato o piu elementi al range di indici specificato(compresi gli indici stessi)\n",
    "del my_list[1:3]\n",
    "print(my_list)"
   ]
  },
  {
   "cell_type": "code",
   "execution_count": 2,
   "id": "ee0fa44d",
   "metadata": {},
   "outputs": [
    {
     "name": "stdout",
     "output_type": "stream",
     "text": [
      "Prima lista: ['Fabio', 'Andrea', 'Nicholas', 'Fabio'] \n",
      "\n",
      "Prima lista: ['Fabio', 'Claudiu', 'Andrea', 'Nicholas', 'Fabio'] \n",
      "\n",
      "'Fabio' si ripete 2  volte\n",
      "\n",
      "Seconda lista: ['Alessio', 'Eros', 'Loris']\n",
      "Lista unita: ['Fabio', 'Claudiu', 'Andrea', 'Nicholas', 'Fabio', 'Alessio', 'Eros', 'Loris'] \n",
      "\n",
      "Andrea si trova alla posizione 2 \n",
      "\n",
      "<class 'list'>\n",
      "['Nicholas', 'Loris', 'Fabio', 'Fabio', 'Eros', 'Claudiu', 'Andrea', 'Alessio'] \n",
      "\n",
      "['Nicholas', 3, 'Loris', 'Fabio', 'Fabio', 'Eros', 'Claudiu', 'Andrea', 'Alessio']\n",
      "['Nicholas', 'Loris', 'Fabio', 'Fabio', 'Eros', 'Claudiu', 'Andrea', 'Alessio']\n"
     ]
    }
   ],
   "source": [
    "#2.Create una lista e provate ad utilizzare i metodi: insert(), count(), extend(), index(), sort(), remove()\n",
    "\n",
    "my_list=['Fabio', 'Andrea', 'Nicholas', 'Fabio'] #crea la prima lista\n",
    "print(\"Prima lista:\", str(my_list), '\\n')\n",
    "\n",
    "#Insert: inserisce un elemento all'indice specificato\n",
    "my_list.insert(1, 'Claudiu')\n",
    "print(\"Prima lista:\", str(my_list), '\\n')\n",
    "\n",
    "#Count: restituisce il numero di elementi con il valore specificato\n",
    "conteggio=my_list.count(\"Fabio\")\n",
    "print(\"'Fabio' si ripete\", str(conteggio), \" volte\\n\")\n",
    "\n",
    "#Extend: aggiunge gli elementi di una lista alla fine della lista corrente\n",
    "my_list2=['Alessio', 'Eros', 'Loris'] #crea la seconda lista\n",
    "print(\"Seconda lista:\", str(my_list2))\n",
    "my_list.extend(my_list2)\n",
    "print(\"Lista unita:\", str(my_list), '\\n')\n",
    "\n",
    "#Index: restituisce l'indice del primo elemento con il valore specificato\n",
    "print(\"Andrea si trova alla posizione\", str(my_list.index('Andrea')), '\\n')\n",
    "\n",
    "#Sort: ordina la lista\n",
    "my_list=sorted(my_list, reverse=False) #ordina la lista in ordine alfabetico\n",
    "print(list)\n",
    "my_list=sorted(my_list, reverse=True) #ordina la lista in ordine alfabetico inverso\n",
    "print(str(my_list), '\\n')\n",
    "\n",
    "#Remove: rimuove l'elemento con il valore specificato\n",
    "my_list.insert(1, 3)\n",
    "print(str(my_list))\n",
    "my_list.remove(3) #Rimuove il valore 3\n",
    "print(str(my_list))"
   ]
  },
  {
   "cell_type": "code",
   "execution_count": 3,
   "id": "ec68af1b",
   "metadata": {},
   "outputs": [
    {
     "name": "stdout",
     "output_type": "stream",
     "text": [
      "tuple[slice(1, 5, None)] \n",
      "\n"
     ]
    }
   ],
   "source": [
    "#Tupla: una tupla è una struttura dati ordinata, immutabile e indicizzata\n",
    "\n",
    "\n",
    "#1.Create una tupla e provate a fare un'operazione di slicing\n",
    "\n",
    "my_tuple=(1,2,3,4,5,6,7)\n",
    "sliced_tuple=tuple[1:5] #operazione di slice(separa parte della tupla in una nuova tupla)\n",
    "print(str(sliced_tuple), '\\n')"
   ]
  },
  {
   "cell_type": "code",
   "execution_count": 4,
   "id": "c2fc58d6",
   "metadata": {},
   "outputs": [
    {
     "name": "stdout",
     "output_type": "stream",
     "text": [
      "<class 'int'> \n",
      "\n",
      "<class 'tuple'>\n"
     ]
    }
   ],
   "source": [
    "#2.Provate a chiamare la funzione type() sui seguenti due oggetti: tupla_test = (11), tupla_test = (11,)\n",
    "\n",
    "tupla_test=(11)\n",
    "print(str(type(tupla_test)), '\\n') #stampa il tipo di dati della tupla(int)\n",
    "tupla_test=(11,)\n",
    "print(type(tupla_test)) #stampa il tipo di dati della tupla"
   ]
  },
  {
   "cell_type": "code",
   "execution_count": 5,
   "id": "cd0f38fc",
   "metadata": {},
   "outputs": [
    {
     "name": "stdout",
     "output_type": "stream",
     "text": [
      "\n",
      "{'ciao mondo'}\n",
      "\n",
      "{(1, 2, 3, 4, 5, 6, 7)}\n",
      "\n",
      "{'ciao mondo', (1, 2, 3, 4, 5, 6, 7)}\n",
      "<class 'set'>\n",
      "\n",
      "{1, 2, 3, 4, 5}\n",
      "{2, 3, 4, 5}\n",
      "set()\n"
     ]
    }
   ],
   "source": [
    "#Set: un set è una struttura dati non ordinata, immutabile e non indicizzata\n",
    "\n",
    "\n",
    "#Esercizio 1\n",
    "\n",
    "#1.Create un set con un elemento di tipo set contenente un elemento di tipo str\n",
    "print()\n",
    "my_string=\"ciao mondo\" #creo una stringa\n",
    "my_set=set([my_string]) #creo il set della stringa\n",
    "print(my_set)\n",
    "\n",
    "#2.Create un set con un elemento di tipo set contenente un elemento di tipo tuple\n",
    "print()\n",
    "my_tuple=(1,2,3,4,5,6,7)\n",
    "my_set=set([my_tuple]) #creo il set della tupla\n",
    "print(my_set)\n",
    "\n",
    "#3.Create un oggetto {} e passatelo alla funzione type()\n",
    "print()\n",
    "my_set={my_string,my_tuple} #creo l'oggetto {}\n",
    "print(my_set)\n",
    "print(type(my_set)) #passa il set alla funzione type e stampa\n",
    "\n",
    "#4.Create un set e utilizzate i metodi pop() e clear()\n",
    "print()\n",
    "my_set={1,2,3,4,5} #crea il set \n",
    "print(my_set)\n",
    "my_set.pop() #metodo pop(), rimuovere un elemento casuale dal set\n",
    "print(my_set)\n",
    "my_set.clear() #metodo clear(), rimuove tutti gli elementi di un set\n",
    "print(my_set)"
   ]
  },
  {
   "cell_type": "code",
   "execution_count": 6,
   "id": "2414d37e",
   "metadata": {},
   "outputs": [
    {
     "name": "stdout",
     "output_type": "stream",
     "text": [
      "Union: {1, 2, 3, 4, 5, 6, 7, 8}\n",
      "Intersection: {4, 5}\n",
      "Difference: {1, 2, 3}\n",
      "Symmetric_difference: {1, 2, 3, 6, 7, 8}\n"
     ]
    }
   ],
   "source": [
    "#Esercizio 2\n",
    "\n",
    "#Dati i due set:\n",
    "A={1,2,3,4,5}\n",
    "B={4,5,6,7,8}\n",
    "#svolgete le quattro operazioni tra set utilizzando i metodi union(), intersection(), difference() e symmetric_difference()\n",
    "\n",
    "#Union: restituisce un insieme che contiene tutti gli elementi di entrambi i set escludendo i duplicati\n",
    "my_set=A.union(B)\n",
    "print(\"Union:\", my_set)\n",
    "\n",
    "#Intersection: restituisce un set che contiene gli elementi che esistono sia nel set A che nel set B\n",
    "my_set=A.intersection(B)\n",
    "print(\"Intersection:\", my_set)\n",
    "\n",
    "#Difference: restituisce un set che contiene gli elementi che esistono solo nel set A e non nel set B\n",
    "my_set=A.difference(B)\n",
    "print(\"Difference:\", my_set)\n",
    "\n",
    "#Symmetric_difference: restituisce un set che contiene tutti gli elementi di entrambi i set,\n",
    "#                      ad eccezione degli elementi che sono presenti in entrambi i set\n",
    "my_set=A.symmetric_difference(B)\n",
    "print(\"Symmetric_difference:\", my_set)"
   ]
  },
  {
   "cell_type": "code",
   "execution_count": 7,
   "id": "e6265ab9",
   "metadata": {},
   "outputs": [
    {
     "name": "stdout",
     "output_type": "stream",
     "text": [
      "{'chiave1': 1, 'chiave2': 2, 'chiave3': 3}\n",
      "La lunghezza del dizionario è: 3\n",
      "\n",
      "{'chiave1': 1}\n",
      "{'chiave1': 1, 'chiaveN1': 12, 'chiaveN2': 13}\n",
      "\n",
      "dict_values([1, 2, 3])\n",
      "dict_items([('chiave1', 1), ('chiave2', 2), ('chiave3', 3)])\n",
      "'chiave2': 2\n"
     ]
    }
   ],
   "source": [
    "#Dizionari: un dizionario è una struttura dati ordinata, modificabile e che non ammette duplicati\n",
    "\n",
    "\n",
    "#1.Create un dizionario e passatelo come argomento alla funzione len()\n",
    "my_dict={\n",
    "    'chiave1': 1,\n",
    "    'chiave2': 2,\n",
    "    'chiave3': 3\n",
    "}\n",
    "print(my_dict)\n",
    "dict_length=len(my_dict) #passa il dizionario alla funzione len()\n",
    "print('La lunghezza del dizionario è:', dict_length)\n",
    "\n",
    "#2.Create un oggetto {} e riempitelo con due coppie chiave-valore\n",
    "print()\n",
    "my_dict={\n",
    "    'chiave1': 1\n",
    "}\n",
    "print(my_dict)\n",
    "my_dict['chiaveN1']=12 #inserimento di una nuova coppia chiave-valore\n",
    "my_dict['chiaveN2']=13 #inserimento di una nuova coppia chiave-valore\n",
    "print(my_dict)\n",
    "\n",
    "#3.Create un dizionario e provate a utilizzare i metodi values(), items(), get()\n",
    "print()\n",
    "my_dict = {\n",
    "    'chiave1': 1,\n",
    "    'chiave2': 2,\n",
    "    'chiave3': 3\n",
    "}\n",
    "print(my_dict.values()) #stampa tutti i valori\n",
    "print(my_dict.items()) #stampa tutti gli elementi\n",
    "print(\"'chiave2':\", my_dict.get('chiave2')) #stampa il valore della chiave 'chiave2'"
   ]
  }
 ],
 "metadata": {
  "kernelspec": {
   "display_name": "Python 3 (ipykernel)",
   "language": "python",
   "name": "python3"
  },
  "language_info": {
   "codemirror_mode": {
    "name": "ipython",
    "version": 3
   },
   "file_extension": ".py",
   "mimetype": "text/x-python",
   "name": "python",
   "nbconvert_exporter": "python",
   "pygments_lexer": "ipython3",
   "version": "3.9.13"
  }
 },
 "nbformat": 4,
 "nbformat_minor": 5
}
